{
  "cells": [
    {
      "cell_type": "markdown",
      "metadata": {
        "id": "view-in-github",
        "colab_type": "text"
      },
      "source": [
        "<a href=\"https://colab.research.google.com/github/isuriperera1/HopeBridge/blob/Chatbot/Data_Preprocessing.ipynb\" target=\"_parent\"><img src=\"https://colab.research.google.com/assets/colab-badge.svg\" alt=\"Open In Colab\"/></a>"
      ]
    },
    {
      "metadata": {
        "ExecuteTime": {
          "end_time": "2024-12-20T09:41:51.855398Z",
          "start_time": "2024-12-20T09:41:50.646728Z"
        },
        "id": "eb97109ccf24aacc"
      },
      "cell_type": "code",
      "source": [
        "import pandas as pd\n",
        "import re"
      ],
      "id": "eb97109ccf24aacc",
      "outputs": [],
      "execution_count": null
    },
    {
      "cell_type": "code",
      "id": "initial_id",
      "metadata": {
        "collapsed": true,
        "ExecuteTime": {
          "end_time": "2024-12-20T09:41:51.921872Z",
          "start_time": "2024-12-20T09:41:51.856438Z"
        },
        "id": "initial_id"
      },
      "source": [
        "# read json file\n",
        "data = pd.read_json(\"./combined_dataset.json\", lines=True)"
      ],
      "outputs": [],
      "execution_count": null
    },
    {
      "metadata": {
        "ExecuteTime": {
          "end_time": "2024-12-20T09:41:51.929574Z",
          "start_time": "2024-12-20T09:41:51.923260Z"
        },
        "colab": {
          "base_uri": "https://localhost:8080/"
        },
        "id": "102ca13a00780a2b",
        "outputId": "c3a6a0a5-3199-444f-9af0-2745a34b5e6c"
      },
      "cell_type": "code",
      "source": [
        "data.shape"
      ],
      "id": "102ca13a00780a2b",
      "outputs": [
        {
          "output_type": "execute_result",
          "data": {
            "text/plain": [
              "(3512, 2)"
            ]
          },
          "metadata": {},
          "execution_count": 4
        }
      ],
      "execution_count": null
    },
    {
      "metadata": {
        "ExecuteTime": {
          "end_time": "2024-12-20T09:41:51.943041Z",
          "start_time": "2024-12-20T09:41:51.929574Z"
        },
        "colab": {
          "base_uri": "https://localhost:8080/",
          "height": 206
        },
        "id": "a24f86323a32ea78",
        "outputId": "01aa2d20-ccd4-4656-b479-a80c63622ab6"
      },
      "cell_type": "code",
      "source": [
        "data.head()"
      ],
      "id": "a24f86323a32ea78",
      "outputs": [
        {
          "output_type": "execute_result",
          "data": {
            "text/plain": [
              "                                             Context  \\\n",
              "0  I'm going through some things with my feelings...   \n",
              "1  I'm going through some things with my feelings...   \n",
              "2  I'm going through some things with my feelings...   \n",
              "3  I'm going through some things with my feelings...   \n",
              "4  I'm going through some things with my feelings...   \n",
              "\n",
              "                                            Response  \n",
              "0  If everyone thinks you're worthless, then mayb...  \n",
              "1  Hello, and thank you for your question and see...  \n",
              "2  First thing I'd suggest is getting the sleep y...  \n",
              "3  Therapy is essential for those that are feelin...  \n",
              "4  I first want to let you know that you are not ...  "
            ],
            "text/html": [
              "\n",
              "  <div id=\"df-d4acb2a7-c264-4941-8d30-51b390c772a0\" class=\"colab-df-container\">\n",
              "    <div>\n",
              "<style scoped>\n",
              "    .dataframe tbody tr th:only-of-type {\n",
              "        vertical-align: middle;\n",
              "    }\n",
              "\n",
              "    .dataframe tbody tr th {\n",
              "        vertical-align: top;\n",
              "    }\n",
              "\n",
              "    .dataframe thead th {\n",
              "        text-align: right;\n",
              "    }\n",
              "</style>\n",
              "<table border=\"1\" class=\"dataframe\">\n",
              "  <thead>\n",
              "    <tr style=\"text-align: right;\">\n",
              "      <th></th>\n",
              "      <th>Context</th>\n",
              "      <th>Response</th>\n",
              "    </tr>\n",
              "  </thead>\n",
              "  <tbody>\n",
              "    <tr>\n",
              "      <th>0</th>\n",
              "      <td>I'm going through some things with my feelings...</td>\n",
              "      <td>If everyone thinks you're worthless, then mayb...</td>\n",
              "    </tr>\n",
              "    <tr>\n",
              "      <th>1</th>\n",
              "      <td>I'm going through some things with my feelings...</td>\n",
              "      <td>Hello, and thank you for your question and see...</td>\n",
              "    </tr>\n",
              "    <tr>\n",
              "      <th>2</th>\n",
              "      <td>I'm going through some things with my feelings...</td>\n",
              "      <td>First thing I'd suggest is getting the sleep y...</td>\n",
              "    </tr>\n",
              "    <tr>\n",
              "      <th>3</th>\n",
              "      <td>I'm going through some things with my feelings...</td>\n",
              "      <td>Therapy is essential for those that are feelin...</td>\n",
              "    </tr>\n",
              "    <tr>\n",
              "      <th>4</th>\n",
              "      <td>I'm going through some things with my feelings...</td>\n",
              "      <td>I first want to let you know that you are not ...</td>\n",
              "    </tr>\n",
              "  </tbody>\n",
              "</table>\n",
              "</div>\n",
              "    <div class=\"colab-df-buttons\">\n",
              "\n",
              "  <div class=\"colab-df-container\">\n",
              "    <button class=\"colab-df-convert\" onclick=\"convertToInteractive('df-d4acb2a7-c264-4941-8d30-51b390c772a0')\"\n",
              "            title=\"Convert this dataframe to an interactive table.\"\n",
              "            style=\"display:none;\">\n",
              "\n",
              "  <svg xmlns=\"http://www.w3.org/2000/svg\" height=\"24px\" viewBox=\"0 -960 960 960\">\n",
              "    <path d=\"M120-120v-720h720v720H120Zm60-500h600v-160H180v160Zm220 220h160v-160H400v160Zm0 220h160v-160H400v160ZM180-400h160v-160H180v160Zm440 0h160v-160H620v160ZM180-180h160v-160H180v160Zm440 0h160v-160H620v160Z\"/>\n",
              "  </svg>\n",
              "    </button>\n",
              "\n",
              "  <style>\n",
              "    .colab-df-container {\n",
              "      display:flex;\n",
              "      gap: 12px;\n",
              "    }\n",
              "\n",
              "    .colab-df-convert {\n",
              "      background-color: #E8F0FE;\n",
              "      border: none;\n",
              "      border-radius: 50%;\n",
              "      cursor: pointer;\n",
              "      display: none;\n",
              "      fill: #1967D2;\n",
              "      height: 32px;\n",
              "      padding: 0 0 0 0;\n",
              "      width: 32px;\n",
              "    }\n",
              "\n",
              "    .colab-df-convert:hover {\n",
              "      background-color: #E2EBFA;\n",
              "      box-shadow: 0px 1px 2px rgba(60, 64, 67, 0.3), 0px 1px 3px 1px rgba(60, 64, 67, 0.15);\n",
              "      fill: #174EA6;\n",
              "    }\n",
              "\n",
              "    .colab-df-buttons div {\n",
              "      margin-bottom: 4px;\n",
              "    }\n",
              "\n",
              "    [theme=dark] .colab-df-convert {\n",
              "      background-color: #3B4455;\n",
              "      fill: #D2E3FC;\n",
              "    }\n",
              "\n",
              "    [theme=dark] .colab-df-convert:hover {\n",
              "      background-color: #434B5C;\n",
              "      box-shadow: 0px 1px 3px 1px rgba(0, 0, 0, 0.15);\n",
              "      filter: drop-shadow(0px 1px 2px rgba(0, 0, 0, 0.3));\n",
              "      fill: #FFFFFF;\n",
              "    }\n",
              "  </style>\n",
              "\n",
              "    <script>\n",
              "      const buttonEl =\n",
              "        document.querySelector('#df-d4acb2a7-c264-4941-8d30-51b390c772a0 button.colab-df-convert');\n",
              "      buttonEl.style.display =\n",
              "        google.colab.kernel.accessAllowed ? 'block' : 'none';\n",
              "\n",
              "      async function convertToInteractive(key) {\n",
              "        const element = document.querySelector('#df-d4acb2a7-c264-4941-8d30-51b390c772a0');\n",
              "        const dataTable =\n",
              "          await google.colab.kernel.invokeFunction('convertToInteractive',\n",
              "                                                    [key], {});\n",
              "        if (!dataTable) return;\n",
              "\n",
              "        const docLinkHtml = 'Like what you see? Visit the ' +\n",
              "          '<a target=\"_blank\" href=https://colab.research.google.com/notebooks/data_table.ipynb>data table notebook</a>'\n",
              "          + ' to learn more about interactive tables.';\n",
              "        element.innerHTML = '';\n",
              "        dataTable['output_type'] = 'display_data';\n",
              "        await google.colab.output.renderOutput(dataTable, element);\n",
              "        const docLink = document.createElement('div');\n",
              "        docLink.innerHTML = docLinkHtml;\n",
              "        element.appendChild(docLink);\n",
              "      }\n",
              "    </script>\n",
              "  </div>\n",
              "\n",
              "\n",
              "<div id=\"df-567cba6a-e07c-4f01-b3cc-50178b23087f\">\n",
              "  <button class=\"colab-df-quickchart\" onclick=\"quickchart('df-567cba6a-e07c-4f01-b3cc-50178b23087f')\"\n",
              "            title=\"Suggest charts\"\n",
              "            style=\"display:none;\">\n",
              "\n",
              "<svg xmlns=\"http://www.w3.org/2000/svg\" height=\"24px\"viewBox=\"0 0 24 24\"\n",
              "     width=\"24px\">\n",
              "    <g>\n",
              "        <path d=\"M19 3H5c-1.1 0-2 .9-2 2v14c0 1.1.9 2 2 2h14c1.1 0 2-.9 2-2V5c0-1.1-.9-2-2-2zM9 17H7v-7h2v7zm4 0h-2V7h2v10zm4 0h-2v-4h2v4z\"/>\n",
              "    </g>\n",
              "</svg>\n",
              "  </button>\n",
              "\n",
              "<style>\n",
              "  .colab-df-quickchart {\n",
              "      --bg-color: #E8F0FE;\n",
              "      --fill-color: #1967D2;\n",
              "      --hover-bg-color: #E2EBFA;\n",
              "      --hover-fill-color: #174EA6;\n",
              "      --disabled-fill-color: #AAA;\n",
              "      --disabled-bg-color: #DDD;\n",
              "  }\n",
              "\n",
              "  [theme=dark] .colab-df-quickchart {\n",
              "      --bg-color: #3B4455;\n",
              "      --fill-color: #D2E3FC;\n",
              "      --hover-bg-color: #434B5C;\n",
              "      --hover-fill-color: #FFFFFF;\n",
              "      --disabled-bg-color: #3B4455;\n",
              "      --disabled-fill-color: #666;\n",
              "  }\n",
              "\n",
              "  .colab-df-quickchart {\n",
              "    background-color: var(--bg-color);\n",
              "    border: none;\n",
              "    border-radius: 50%;\n",
              "    cursor: pointer;\n",
              "    display: none;\n",
              "    fill: var(--fill-color);\n",
              "    height: 32px;\n",
              "    padding: 0;\n",
              "    width: 32px;\n",
              "  }\n",
              "\n",
              "  .colab-df-quickchart:hover {\n",
              "    background-color: var(--hover-bg-color);\n",
              "    box-shadow: 0 1px 2px rgba(60, 64, 67, 0.3), 0 1px 3px 1px rgba(60, 64, 67, 0.15);\n",
              "    fill: var(--button-hover-fill-color);\n",
              "  }\n",
              "\n",
              "  .colab-df-quickchart-complete:disabled,\n",
              "  .colab-df-quickchart-complete:disabled:hover {\n",
              "    background-color: var(--disabled-bg-color);\n",
              "    fill: var(--disabled-fill-color);\n",
              "    box-shadow: none;\n",
              "  }\n",
              "\n",
              "  .colab-df-spinner {\n",
              "    border: 2px solid var(--fill-color);\n",
              "    border-color: transparent;\n",
              "    border-bottom-color: var(--fill-color);\n",
              "    animation:\n",
              "      spin 1s steps(1) infinite;\n",
              "  }\n",
              "\n",
              "  @keyframes spin {\n",
              "    0% {\n",
              "      border-color: transparent;\n",
              "      border-bottom-color: var(--fill-color);\n",
              "      border-left-color: var(--fill-color);\n",
              "    }\n",
              "    20% {\n",
              "      border-color: transparent;\n",
              "      border-left-color: var(--fill-color);\n",
              "      border-top-color: var(--fill-color);\n",
              "    }\n",
              "    30% {\n",
              "      border-color: transparent;\n",
              "      border-left-color: var(--fill-color);\n",
              "      border-top-color: var(--fill-color);\n",
              "      border-right-color: var(--fill-color);\n",
              "    }\n",
              "    40% {\n",
              "      border-color: transparent;\n",
              "      border-right-color: var(--fill-color);\n",
              "      border-top-color: var(--fill-color);\n",
              "    }\n",
              "    60% {\n",
              "      border-color: transparent;\n",
              "      border-right-color: var(--fill-color);\n",
              "    }\n",
              "    80% {\n",
              "      border-color: transparent;\n",
              "      border-right-color: var(--fill-color);\n",
              "      border-bottom-color: var(--fill-color);\n",
              "    }\n",
              "    90% {\n",
              "      border-color: transparent;\n",
              "      border-bottom-color: var(--fill-color);\n",
              "    }\n",
              "  }\n",
              "</style>\n",
              "\n",
              "  <script>\n",
              "    async function quickchart(key) {\n",
              "      const quickchartButtonEl =\n",
              "        document.querySelector('#' + key + ' button');\n",
              "      quickchartButtonEl.disabled = true;  // To prevent multiple clicks.\n",
              "      quickchartButtonEl.classList.add('colab-df-spinner');\n",
              "      try {\n",
              "        const charts = await google.colab.kernel.invokeFunction(\n",
              "            'suggestCharts', [key], {});\n",
              "      } catch (error) {\n",
              "        console.error('Error during call to suggestCharts:', error);\n",
              "      }\n",
              "      quickchartButtonEl.classList.remove('colab-df-spinner');\n",
              "      quickchartButtonEl.classList.add('colab-df-quickchart-complete');\n",
              "    }\n",
              "    (() => {\n",
              "      let quickchartButtonEl =\n",
              "        document.querySelector('#df-567cba6a-e07c-4f01-b3cc-50178b23087f button');\n",
              "      quickchartButtonEl.style.display =\n",
              "        google.colab.kernel.accessAllowed ? 'block' : 'none';\n",
              "    })();\n",
              "  </script>\n",
              "</div>\n",
              "\n",
              "    </div>\n",
              "  </div>\n"
            ],
            "application/vnd.google.colaboratory.intrinsic+json": {
              "type": "dataframe",
              "variable_name": "data",
              "summary": "{\n  \"name\": \"data\",\n  \"rows\": 3512,\n  \"fields\": [\n    {\n      \"column\": \"Context\",\n      \"properties\": {\n        \"dtype\": \"category\",\n        \"num_unique_values\": 995,\n        \"samples\": [\n          \"My mother has Alzheimer's and she has become so nasty and mean to everyone and she always asks for unrealistic, silly or meaningless items.  I get so frustrated and angry, but then I feel guilty because I know it probably isn\\u2019t her fault.  How can I cope with feeling like this?\",\n          \"How do I stop those thoughts?\",\n          \"For the past week or so me and my boyfriend have been fighting. He has been making a lot of bad choices and he is currently hospitalized. I'm barely eating or sleeping because I'm constantly worried about him. Everyone else in my life says that I should just forget about him and walk away. What should I do?\"\n        ],\n        \"semantic_type\": \"\",\n        \"description\": \"\"\n      }\n    },\n    {\n      \"column\": \"Response\",\n      \"properties\": {\n        \"dtype\": \"string\",\n        \"num_unique_values\": 2480,\n        \"samples\": [\n          \"Check out my blog post on: \\u00a0Four-ways-add-self-esteem-friends-list/I hope this offers you some nuggets of helpfulness!\",\n          \"It is possible that you have depression, but you could also be experiencing some other changes that mean that you have feelings of being sad without actually being depressed. Your statement makes it sound like you've stopped caring about your work, but you're still going to work and doing your work. It almost sounds like you are dissatisfied with your work. Do you like what you do?\\u00a0When you said that life is pointless, what makes it that way? What is keeping you going? Is there something you can do each day that you can find meaning in?You mentioned that you are not sure if you need help or are just tired. It sounds like you could certainly benefit from talking with someone about more specifics.I'm curious about how long you have felt this way and if you are aware of anything that is contributing to it.\",\n          \"There's a narrative approach that we call nightmare \\\"rescripting\\\" that may be helpful.Since we can't really control the nature of our dreams while they're happening, we try to alter them while we are in a waking state.\\u00a0\\u00a0In a nutshell, this refers to first writing out in detail the events of a recurring nightmare you have. Typically, there is an element of fear, danger or helplessness.Second, we rescript the nightmare by changing what happens in the dream in a way that engenders feelings of empowerment, control, competence, and/or safety. In other words, if the nightmare involved being pursued or assaulted, we might change the events of the story so that you call the police, get to a place of safety, or even fight back and protect yourself.Third, you can reread this new version of the dream over and over again, so that it becomes a well rehearsed story. The effect of this can make it so that the next time your mind goes towards the nightmare while sleeping, this new, more hopeful and empowering story competes with the old one and reduces the level of distress associated with the dream. Best of luck!\"\n        ],\n        \"semantic_type\": \"\",\n        \"description\": \"\"\n      }\n    }\n  ]\n}"
            }
          },
          "metadata": {},
          "execution_count": 5
        }
      ],
      "execution_count": null
    },
    {
      "metadata": {
        "ExecuteTime": {
          "end_time": "2024-12-20T09:41:51.960859Z",
          "start_time": "2024-12-20T09:41:51.944419Z"
        },
        "colab": {
          "base_uri": "https://localhost:8080/"
        },
        "id": "d039da72a2aaf2b0",
        "outputId": "5e18e5f4-e2b8-4151-83c4-def0f3cb4f22"
      },
      "cell_type": "code",
      "source": [
        "data.info()"
      ],
      "id": "d039da72a2aaf2b0",
      "outputs": [
        {
          "output_type": "stream",
          "name": "stdout",
          "text": [
            "<class 'pandas.core.frame.DataFrame'>\n",
            "RangeIndex: 3512 entries, 0 to 3511\n",
            "Data columns (total 2 columns):\n",
            " #   Column    Non-Null Count  Dtype \n",
            "---  ------    --------------  ----- \n",
            " 0   Context   3512 non-null   object\n",
            " 1   Response  3512 non-null   object\n",
            "dtypes: object(2)\n",
            "memory usage: 55.0+ KB\n"
          ]
        }
      ],
      "execution_count": null
    },
    {
      "metadata": {
        "ExecuteTime": {
          "end_time": "2024-12-20T09:41:51.977350Z",
          "start_time": "2024-12-20T09:41:51.961864Z"
        },
        "colab": {
          "base_uri": "https://localhost:8080/",
          "height": 175
        },
        "id": "ba917d649625ee27",
        "outputId": "7c370daf-c5e0-419f-9b60-73d22e8bfe1d"
      },
      "cell_type": "code",
      "source": [
        "data.describe()"
      ],
      "id": "ba917d649625ee27",
      "outputs": [
        {
          "output_type": "execute_result",
          "data": {
            "text/plain": [
              "                                                  Context Response\n",
              "count                                                3512     3512\n",
              "unique                                                995     2480\n",
              "top     I have so many issues to address. I have a his...         \n",
              "freq                                                   94        4"
            ],
            "text/html": [
              "\n",
              "  <div id=\"df-d880932f-b845-4938-8175-44b82c8d8296\" class=\"colab-df-container\">\n",
              "    <div>\n",
              "<style scoped>\n",
              "    .dataframe tbody tr th:only-of-type {\n",
              "        vertical-align: middle;\n",
              "    }\n",
              "\n",
              "    .dataframe tbody tr th {\n",
              "        vertical-align: top;\n",
              "    }\n",
              "\n",
              "    .dataframe thead th {\n",
              "        text-align: right;\n",
              "    }\n",
              "</style>\n",
              "<table border=\"1\" class=\"dataframe\">\n",
              "  <thead>\n",
              "    <tr style=\"text-align: right;\">\n",
              "      <th></th>\n",
              "      <th>Context</th>\n",
              "      <th>Response</th>\n",
              "    </tr>\n",
              "  </thead>\n",
              "  <tbody>\n",
              "    <tr>\n",
              "      <th>count</th>\n",
              "      <td>3512</td>\n",
              "      <td>3512</td>\n",
              "    </tr>\n",
              "    <tr>\n",
              "      <th>unique</th>\n",
              "      <td>995</td>\n",
              "      <td>2480</td>\n",
              "    </tr>\n",
              "    <tr>\n",
              "      <th>top</th>\n",
              "      <td>I have so many issues to address. I have a his...</td>\n",
              "      <td></td>\n",
              "    </tr>\n",
              "    <tr>\n",
              "      <th>freq</th>\n",
              "      <td>94</td>\n",
              "      <td>4</td>\n",
              "    </tr>\n",
              "  </tbody>\n",
              "</table>\n",
              "</div>\n",
              "    <div class=\"colab-df-buttons\">\n",
              "\n",
              "  <div class=\"colab-df-container\">\n",
              "    <button class=\"colab-df-convert\" onclick=\"convertToInteractive('df-d880932f-b845-4938-8175-44b82c8d8296')\"\n",
              "            title=\"Convert this dataframe to an interactive table.\"\n",
              "            style=\"display:none;\">\n",
              "\n",
              "  <svg xmlns=\"http://www.w3.org/2000/svg\" height=\"24px\" viewBox=\"0 -960 960 960\">\n",
              "    <path d=\"M120-120v-720h720v720H120Zm60-500h600v-160H180v160Zm220 220h160v-160H400v160Zm0 220h160v-160H400v160ZM180-400h160v-160H180v160Zm440 0h160v-160H620v160ZM180-180h160v-160H180v160Zm440 0h160v-160H620v160Z\"/>\n",
              "  </svg>\n",
              "    </button>\n",
              "\n",
              "  <style>\n",
              "    .colab-df-container {\n",
              "      display:flex;\n",
              "      gap: 12px;\n",
              "    }\n",
              "\n",
              "    .colab-df-convert {\n",
              "      background-color: #E8F0FE;\n",
              "      border: none;\n",
              "      border-radius: 50%;\n",
              "      cursor: pointer;\n",
              "      display: none;\n",
              "      fill: #1967D2;\n",
              "      height: 32px;\n",
              "      padding: 0 0 0 0;\n",
              "      width: 32px;\n",
              "    }\n",
              "\n",
              "    .colab-df-convert:hover {\n",
              "      background-color: #E2EBFA;\n",
              "      box-shadow: 0px 1px 2px rgba(60, 64, 67, 0.3), 0px 1px 3px 1px rgba(60, 64, 67, 0.15);\n",
              "      fill: #174EA6;\n",
              "    }\n",
              "\n",
              "    .colab-df-buttons div {\n",
              "      margin-bottom: 4px;\n",
              "    }\n",
              "\n",
              "    [theme=dark] .colab-df-convert {\n",
              "      background-color: #3B4455;\n",
              "      fill: #D2E3FC;\n",
              "    }\n",
              "\n",
              "    [theme=dark] .colab-df-convert:hover {\n",
              "      background-color: #434B5C;\n",
              "      box-shadow: 0px 1px 3px 1px rgba(0, 0, 0, 0.15);\n",
              "      filter: drop-shadow(0px 1px 2px rgba(0, 0, 0, 0.3));\n",
              "      fill: #FFFFFF;\n",
              "    }\n",
              "  </style>\n",
              "\n",
              "    <script>\n",
              "      const buttonEl =\n",
              "        document.querySelector('#df-d880932f-b845-4938-8175-44b82c8d8296 button.colab-df-convert');\n",
              "      buttonEl.style.display =\n",
              "        google.colab.kernel.accessAllowed ? 'block' : 'none';\n",
              "\n",
              "      async function convertToInteractive(key) {\n",
              "        const element = document.querySelector('#df-d880932f-b845-4938-8175-44b82c8d8296');\n",
              "        const dataTable =\n",
              "          await google.colab.kernel.invokeFunction('convertToInteractive',\n",
              "                                                    [key], {});\n",
              "        if (!dataTable) return;\n",
              "\n",
              "        const docLinkHtml = 'Like what you see? Visit the ' +\n",
              "          '<a target=\"_blank\" href=https://colab.research.google.com/notebooks/data_table.ipynb>data table notebook</a>'\n",
              "          + ' to learn more about interactive tables.';\n",
              "        element.innerHTML = '';\n",
              "        dataTable['output_type'] = 'display_data';\n",
              "        await google.colab.output.renderOutput(dataTable, element);\n",
              "        const docLink = document.createElement('div');\n",
              "        docLink.innerHTML = docLinkHtml;\n",
              "        element.appendChild(docLink);\n",
              "      }\n",
              "    </script>\n",
              "  </div>\n",
              "\n",
              "\n",
              "<div id=\"df-7de03226-6e34-405e-8ab9-cec737ecfc00\">\n",
              "  <button class=\"colab-df-quickchart\" onclick=\"quickchart('df-7de03226-6e34-405e-8ab9-cec737ecfc00')\"\n",
              "            title=\"Suggest charts\"\n",
              "            style=\"display:none;\">\n",
              "\n",
              "<svg xmlns=\"http://www.w3.org/2000/svg\" height=\"24px\"viewBox=\"0 0 24 24\"\n",
              "     width=\"24px\">\n",
              "    <g>\n",
              "        <path d=\"M19 3H5c-1.1 0-2 .9-2 2v14c0 1.1.9 2 2 2h14c1.1 0 2-.9 2-2V5c0-1.1-.9-2-2-2zM9 17H7v-7h2v7zm4 0h-2V7h2v10zm4 0h-2v-4h2v4z\"/>\n",
              "    </g>\n",
              "</svg>\n",
              "  </button>\n",
              "\n",
              "<style>\n",
              "  .colab-df-quickchart {\n",
              "      --bg-color: #E8F0FE;\n",
              "      --fill-color: #1967D2;\n",
              "      --hover-bg-color: #E2EBFA;\n",
              "      --hover-fill-color: #174EA6;\n",
              "      --disabled-fill-color: #AAA;\n",
              "      --disabled-bg-color: #DDD;\n",
              "  }\n",
              "\n",
              "  [theme=dark] .colab-df-quickchart {\n",
              "      --bg-color: #3B4455;\n",
              "      --fill-color: #D2E3FC;\n",
              "      --hover-bg-color: #434B5C;\n",
              "      --hover-fill-color: #FFFFFF;\n",
              "      --disabled-bg-color: #3B4455;\n",
              "      --disabled-fill-color: #666;\n",
              "  }\n",
              "\n",
              "  .colab-df-quickchart {\n",
              "    background-color: var(--bg-color);\n",
              "    border: none;\n",
              "    border-radius: 50%;\n",
              "    cursor: pointer;\n",
              "    display: none;\n",
              "    fill: var(--fill-color);\n",
              "    height: 32px;\n",
              "    padding: 0;\n",
              "    width: 32px;\n",
              "  }\n",
              "\n",
              "  .colab-df-quickchart:hover {\n",
              "    background-color: var(--hover-bg-color);\n",
              "    box-shadow: 0 1px 2px rgba(60, 64, 67, 0.3), 0 1px 3px 1px rgba(60, 64, 67, 0.15);\n",
              "    fill: var(--button-hover-fill-color);\n",
              "  }\n",
              "\n",
              "  .colab-df-quickchart-complete:disabled,\n",
              "  .colab-df-quickchart-complete:disabled:hover {\n",
              "    background-color: var(--disabled-bg-color);\n",
              "    fill: var(--disabled-fill-color);\n",
              "    box-shadow: none;\n",
              "  }\n",
              "\n",
              "  .colab-df-spinner {\n",
              "    border: 2px solid var(--fill-color);\n",
              "    border-color: transparent;\n",
              "    border-bottom-color: var(--fill-color);\n",
              "    animation:\n",
              "      spin 1s steps(1) infinite;\n",
              "  }\n",
              "\n",
              "  @keyframes spin {\n",
              "    0% {\n",
              "      border-color: transparent;\n",
              "      border-bottom-color: var(--fill-color);\n",
              "      border-left-color: var(--fill-color);\n",
              "    }\n",
              "    20% {\n",
              "      border-color: transparent;\n",
              "      border-left-color: var(--fill-color);\n",
              "      border-top-color: var(--fill-color);\n",
              "    }\n",
              "    30% {\n",
              "      border-color: transparent;\n",
              "      border-left-color: var(--fill-color);\n",
              "      border-top-color: var(--fill-color);\n",
              "      border-right-color: var(--fill-color);\n",
              "    }\n",
              "    40% {\n",
              "      border-color: transparent;\n",
              "      border-right-color: var(--fill-color);\n",
              "      border-top-color: var(--fill-color);\n",
              "    }\n",
              "    60% {\n",
              "      border-color: transparent;\n",
              "      border-right-color: var(--fill-color);\n",
              "    }\n",
              "    80% {\n",
              "      border-color: transparent;\n",
              "      border-right-color: var(--fill-color);\n",
              "      border-bottom-color: var(--fill-color);\n",
              "    }\n",
              "    90% {\n",
              "      border-color: transparent;\n",
              "      border-bottom-color: var(--fill-color);\n",
              "    }\n",
              "  }\n",
              "</style>\n",
              "\n",
              "  <script>\n",
              "    async function quickchart(key) {\n",
              "      const quickchartButtonEl =\n",
              "        document.querySelector('#' + key + ' button');\n",
              "      quickchartButtonEl.disabled = true;  // To prevent multiple clicks.\n",
              "      quickchartButtonEl.classList.add('colab-df-spinner');\n",
              "      try {\n",
              "        const charts = await google.colab.kernel.invokeFunction(\n",
              "            'suggestCharts', [key], {});\n",
              "      } catch (error) {\n",
              "        console.error('Error during call to suggestCharts:', error);\n",
              "      }\n",
              "      quickchartButtonEl.classList.remove('colab-df-spinner');\n",
              "      quickchartButtonEl.classList.add('colab-df-quickchart-complete');\n",
              "    }\n",
              "    (() => {\n",
              "      let quickchartButtonEl =\n",
              "        document.querySelector('#df-7de03226-6e34-405e-8ab9-cec737ecfc00 button');\n",
              "      quickchartButtonEl.style.display =\n",
              "        google.colab.kernel.accessAllowed ? 'block' : 'none';\n",
              "    })();\n",
              "  </script>\n",
              "</div>\n",
              "\n",
              "    </div>\n",
              "  </div>\n"
            ],
            "application/vnd.google.colaboratory.intrinsic+json": {
              "type": "dataframe",
              "summary": "{\n  \"name\": \"data\",\n  \"rows\": 4,\n  \"fields\": [\n    {\n      \"column\": \"Context\",\n      \"properties\": {\n        \"dtype\": \"string\",\n        \"num_unique_values\": 4,\n        \"samples\": [\n          995,\n          \"94\",\n          \"3512\"\n        ],\n        \"semantic_type\": \"\",\n        \"description\": \"\"\n      }\n    },\n    {\n      \"column\": \"Response\",\n      \"properties\": {\n        \"dtype\": \"date\",\n        \"min\": \"1970-01-01 00:00:00.000000004\",\n        \"max\": \"1970-01-01 00:00:00.000003512\",\n        \"num_unique_values\": 4,\n        \"samples\": [\n          2480,\n          \"4\",\n          \"3512\"\n        ],\n        \"semantic_type\": \"\",\n        \"description\": \"\"\n      }\n    }\n  ]\n}"
            }
          },
          "metadata": {},
          "execution_count": 7
        }
      ],
      "execution_count": null
    },
    {
      "metadata": {
        "id": "8823f045646f1ed4"
      },
      "cell_type": "markdown",
      "source": [
        "# Data cleaning"
      ],
      "id": "8823f045646f1ed4"
    },
    {
      "metadata": {
        "ExecuteTime": {
          "end_time": "2024-12-20T09:41:52.002455Z",
          "start_time": "2024-12-20T09:41:51.978382Z"
        },
        "colab": {
          "base_uri": "https://localhost:8080/"
        },
        "id": "53fc78b753197eb4",
        "outputId": "6ea6eab6-da9c-4488-ee0a-64d9cd0abd6e"
      },
      "cell_type": "code",
      "source": [
        "# remove duplicate values\n",
        "data.duplicated().sum()"
      ],
      "id": "53fc78b753197eb4",
      "outputs": [
        {
          "output_type": "execute_result",
          "data": {
            "text/plain": [
              "760"
            ]
          },
          "metadata": {},
          "execution_count": 8
        }
      ],
      "execution_count": null
    },
    {
      "metadata": {
        "ExecuteTime": {
          "end_time": "2024-12-20T09:41:52.022093Z",
          "start_time": "2024-12-20T09:41:52.002455Z"
        },
        "id": "8817b06217e519"
      },
      "cell_type": "code",
      "source": [
        "data.drop_duplicates(inplace=True)"
      ],
      "id": "8817b06217e519",
      "outputs": [],
      "execution_count": null
    },
    {
      "metadata": {
        "ExecuteTime": {
          "end_time": "2024-12-20T09:41:52.028349Z",
          "start_time": "2024-12-20T09:41:52.023184Z"
        },
        "colab": {
          "base_uri": "https://localhost:8080/"
        },
        "id": "86a9054a2e9a46f8",
        "outputId": "62810c51-dfdb-4d56-970c-40d84de22af0"
      },
      "cell_type": "code",
      "source": [
        "data.shape"
      ],
      "id": "86a9054a2e9a46f8",
      "outputs": [
        {
          "output_type": "execute_result",
          "data": {
            "text/plain": [
              "(2752, 2)"
            ]
          },
          "metadata": {},
          "execution_count": 10
        }
      ],
      "execution_count": null
    },
    {
      "metadata": {
        "ExecuteTime": {
          "end_time": "2024-12-20T09:41:52.036119Z",
          "start_time": "2024-12-20T09:41:52.029346Z"
        },
        "colab": {
          "base_uri": "https://localhost:8080/",
          "height": 147
        },
        "id": "ad4ed44d606042a0",
        "outputId": "87b9e53d-8802-449e-89a1-44730e88ea89"
      },
      "cell_type": "code",
      "source": [
        "# remove missing and null values\n",
        "data.isna().sum()"
      ],
      "id": "ad4ed44d606042a0",
      "outputs": [
        {
          "output_type": "execute_result",
          "data": {
            "text/plain": [
              "Context     0\n",
              "Response    0\n",
              "dtype: int64"
            ],
            "text/html": [
              "<div>\n",
              "<style scoped>\n",
              "    .dataframe tbody tr th:only-of-type {\n",
              "        vertical-align: middle;\n",
              "    }\n",
              "\n",
              "    .dataframe tbody tr th {\n",
              "        vertical-align: top;\n",
              "    }\n",
              "\n",
              "    .dataframe thead th {\n",
              "        text-align: right;\n",
              "    }\n",
              "</style>\n",
              "<table border=\"1\" class=\"dataframe\">\n",
              "  <thead>\n",
              "    <tr style=\"text-align: right;\">\n",
              "      <th></th>\n",
              "      <th>0</th>\n",
              "    </tr>\n",
              "  </thead>\n",
              "  <tbody>\n",
              "    <tr>\n",
              "      <th>Context</th>\n",
              "      <td>0</td>\n",
              "    </tr>\n",
              "    <tr>\n",
              "      <th>Response</th>\n",
              "      <td>0</td>\n",
              "    </tr>\n",
              "  </tbody>\n",
              "</table>\n",
              "</div><br><label><b>dtype:</b> int64</label>"
            ]
          },
          "metadata": {},
          "execution_count": 11
        }
      ],
      "execution_count": null
    },
    {
      "metadata": {
        "id": "29c7f3024bac20e7"
      },
      "cell_type": "markdown",
      "source": [
        "## Remove unnecessary things"
      ],
      "id": "29c7f3024bac20e7"
    },
    {
      "metadata": {
        "ExecuteTime": {
          "end_time": "2024-12-20T09:41:52.090862Z",
          "start_time": "2024-12-20T09:41:52.037455Z"
        },
        "id": "863cc83cd5580a49"
      },
      "cell_type": "code",
      "source": [
        "# Remove Extra Spaces, Tabs, and Newlines\n",
        "data['Context'] = data['Context'].str.replace(r\"\\s+\", \" \", regex=True).str.strip()"
      ],
      "id": "863cc83cd5580a49",
      "outputs": [],
      "execution_count": null
    },
    {
      "metadata": {
        "ExecuteTime": {
          "end_time": "2024-12-20T09:41:52.129029Z",
          "start_time": "2024-12-20T09:41:52.091863Z"
        },
        "id": "9b8e13f59549e5d6"
      },
      "cell_type": "code",
      "source": [
        "# Standardize Capitalization\n",
        "data['Context'] = data['Context'].str.lower()\n",
        "data['Context'] = data['Context'].str.replace(r\"(^\\w|\\.\\s*\\w)\", lambda m: m.group().upper(), regex=True)\n"
      ],
      "id": "9b8e13f59549e5d6",
      "outputs": [],
      "execution_count": null
    },
    {
      "metadata": {
        "ExecuteTime": {
          "end_time": "2024-12-20T09:41:52.184074Z",
          "start_time": "2024-12-20T09:41:52.130168Z"
        },
        "id": "62255539e90b01da"
      },
      "cell_type": "code",
      "source": [
        "# Remove Sensitive Data\n",
        "data['Context'] = data['Context'].str.replace(r\"\\b[A-Za-z0-9._%+-]+@[A-Za-z0-9.-]+\\.[A-Za-z]{2,}\\b\", \"[EMAIL]\", regex=True)\n",
        "data['Context'] = data['Context'].str.replace(r\"\\b\\d{10}\\b\", \"[PHONE NUMBER]\", regex=True)\n"
      ],
      "id": "62255539e90b01da",
      "outputs": [],
      "execution_count": null
    },
    {
      "metadata": {
        "ExecuteTime": {
          "end_time": "2024-12-20T09:41:52.225716Z",
          "start_time": "2024-12-20T09:41:52.186078Z"
        },
        "id": "86b48f5a714f6269"
      },
      "cell_type": "code",
      "source": [
        "# Normalize Punctuation\n",
        "data['Context'] = data['Context'].str.replace(r\"[?!]+\", lambda m: m.group()[0], regex=True)\n",
        "data['Context'] = data['Context'].str.replace(r\"([.,!?])(\\w)\", r\"\\1 \\2\", regex=True)\n",
        "data['Context'] = data['Context'].str.replace(r\"\\s([.,!?])\", r\"\\1\", regex=True)\n"
      ],
      "id": "86b48f5a714f6269",
      "outputs": [],
      "execution_count": null
    },
    {
      "metadata": {
        "ExecuteTime": {
          "end_time": "2024-12-20T09:41:52.373363Z",
          "start_time": "2024-12-20T09:41:52.227116Z"
        },
        "id": "1e9af83e3022a2df"
      },
      "cell_type": "code",
      "source": [
        "data['Response'] = data['Response'].str.replace(r\"\\s+\", \" \", regex=True).str.strip()\n"
      ],
      "id": "1e9af83e3022a2df",
      "outputs": [],
      "execution_count": null
    },
    {
      "metadata": {
        "ExecuteTime": {
          "end_time": "2024-12-20T09:41:52.470025Z",
          "start_time": "2024-12-20T09:41:52.374534Z"
        },
        "id": "d9200bc355af2935"
      },
      "cell_type": "code",
      "source": [
        "data['Response'] = data['Response'].str.lower()\n",
        "data['Response'] = data['Response'].str.replace(r\"(^\\w|\\.\\s*\\w)\", lambda m: m.group().upper(), regex=True)\n"
      ],
      "id": "d9200bc355af2935",
      "outputs": [],
      "execution_count": null
    },
    {
      "metadata": {
        "ExecuteTime": {
          "end_time": "2024-12-20T09:41:52.637361Z",
          "start_time": "2024-12-20T09:41:52.471401Z"
        },
        "id": "6ea5d7b53cc5f1c8"
      },
      "cell_type": "code",
      "source": [
        "data['Response'] = data['Response'].str.replace(r\"\\b[A-Za-z0-9._%+-]+@[A-Za-z0-9.-]+\\.[A-Za-z]{2,}\\b\", \"[EMAIL]\", regex=True)\n",
        "data['Response'] = data['Response'].str.replace(r\"\\b\\d{10}\\b\", \"[PHONE NUMBER]\", regex=True)\n"
      ],
      "id": "6ea5d7b53cc5f1c8",
      "outputs": [],
      "execution_count": null
    },
    {
      "metadata": {
        "ExecuteTime": {
          "end_time": "2024-12-20T09:41:52.781309Z",
          "start_time": "2024-12-20T09:41:52.637361Z"
        },
        "id": "1f00bcfe953dc6e7"
      },
      "cell_type": "code",
      "source": [
        "data['Response'] = data['Response'].str.replace(r\"[?!]+\", lambda m: m.group()[0], regex=True)\n",
        "data['Response'] = data['Response'].str.replace(r\"([.,!?])(\\w)\", r\"\\1 \\2\", regex=True)\n",
        "data['Response'] = data['Response'].str.replace(r\"\\s([.,!?])\", r\"\\1\", regex=True)\n"
      ],
      "id": "1f00bcfe953dc6e7",
      "outputs": [],
      "execution_count": null
    },
    {
      "metadata": {
        "ExecuteTime": {
          "end_time": "2024-12-20T09:41:52.871904Z",
          "start_time": "2024-12-20T09:41:52.782527Z"
        },
        "id": "cf5932fe0bcad68c"
      },
      "cell_type": "code",
      "source": [
        "# Save cleaned data\n",
        "data.to_csv('cleaned_data.csv', index=False)"
      ],
      "id": "cf5932fe0bcad68c",
      "outputs": [],
      "execution_count": null
    },
    {
      "metadata": {
        "ExecuteTime": {
          "end_time": "2024-12-20T09:41:52.877883Z",
          "start_time": "2024-12-20T09:41:52.873281Z"
        },
        "id": "e99dbc744b755fda"
      },
      "cell_type": "code",
      "source": [
        "processed_context = data[\"Context\"]\n",
        "processed_response = data[\"Response\"]\n"
      ],
      "id": "e99dbc744b755fda",
      "outputs": [],
      "execution_count": null
    },
    {
      "metadata": {
        "ExecuteTime": {
          "end_time": "2024-12-20T09:41:52.886935Z",
          "start_time": "2024-12-20T09:41:52.878883Z"
        },
        "colab": {
          "base_uri": "https://localhost:8080/",
          "height": 458
        },
        "id": "6c30d159985eed64",
        "outputId": "6c1392c3-3e7d-4cdf-a870-8dac91b31cfa"
      },
      "cell_type": "code",
      "source": [
        "processed_response"
      ],
      "id": "6c30d159985eed64",
      "outputs": [
        {
          "output_type": "execute_result",
          "data": {
            "text/plain": [
              "0       If everyone thinks you're worthless, then mayb...\n",
              "1       Hello, and thank you for your question and see...\n",
              "2       First thing i'd suggest is getting the sleep y...\n",
              "3       Therapy is essential for those that are feelin...\n",
              "4       I first want to let you know that you are not ...\n",
              "                              ...                        \n",
              "3504    Hi. This is an excellent question! i think tha...\n",
              "3508    I'm sorry you have tension between you and you...\n",
              "3509    The true answer is, \"no one can really say wit...\n",
              "3510    How do you help yourself to believe you requir...\n",
              "3511                             Hmm this is a tough one!\n",
              "Name: Response, Length: 2752, dtype: object"
            ],
            "text/html": [
              "<div>\n",
              "<style scoped>\n",
              "    .dataframe tbody tr th:only-of-type {\n",
              "        vertical-align: middle;\n",
              "    }\n",
              "\n",
              "    .dataframe tbody tr th {\n",
              "        vertical-align: top;\n",
              "    }\n",
              "\n",
              "    .dataframe thead th {\n",
              "        text-align: right;\n",
              "    }\n",
              "</style>\n",
              "<table border=\"1\" class=\"dataframe\">\n",
              "  <thead>\n",
              "    <tr style=\"text-align: right;\">\n",
              "      <th></th>\n",
              "      <th>Response</th>\n",
              "    </tr>\n",
              "  </thead>\n",
              "  <tbody>\n",
              "    <tr>\n",
              "      <th>0</th>\n",
              "      <td>If everyone thinks you're worthless, then mayb...</td>\n",
              "    </tr>\n",
              "    <tr>\n",
              "      <th>1</th>\n",
              "      <td>Hello, and thank you for your question and see...</td>\n",
              "    </tr>\n",
              "    <tr>\n",
              "      <th>2</th>\n",
              "      <td>First thing i'd suggest is getting the sleep y...</td>\n",
              "    </tr>\n",
              "    <tr>\n",
              "      <th>3</th>\n",
              "      <td>Therapy is essential for those that are feelin...</td>\n",
              "    </tr>\n",
              "    <tr>\n",
              "      <th>4</th>\n",
              "      <td>I first want to let you know that you are not ...</td>\n",
              "    </tr>\n",
              "    <tr>\n",
              "      <th>...</th>\n",
              "      <td>...</td>\n",
              "    </tr>\n",
              "    <tr>\n",
              "      <th>3504</th>\n",
              "      <td>Hi. This is an excellent question! i think tha...</td>\n",
              "    </tr>\n",
              "    <tr>\n",
              "      <th>3508</th>\n",
              "      <td>I'm sorry you have tension between you and you...</td>\n",
              "    </tr>\n",
              "    <tr>\n",
              "      <th>3509</th>\n",
              "      <td>The true answer is, \"no one can really say wit...</td>\n",
              "    </tr>\n",
              "    <tr>\n",
              "      <th>3510</th>\n",
              "      <td>How do you help yourself to believe you requir...</td>\n",
              "    </tr>\n",
              "    <tr>\n",
              "      <th>3511</th>\n",
              "      <td>Hmm this is a tough one!</td>\n",
              "    </tr>\n",
              "  </tbody>\n",
              "</table>\n",
              "<p>2752 rows × 1 columns</p>\n",
              "</div><br><label><b>dtype:</b> object</label>"
            ]
          },
          "metadata": {},
          "execution_count": 22
        }
      ],
      "execution_count": null
    },
    {
      "metadata": {
        "ExecuteTime": {
          "end_time": "2024-12-20T09:41:52.895190Z",
          "start_time": "2024-12-20T09:41:52.888038Z"
        },
        "colab": {
          "base_uri": "https://localhost:8080/",
          "height": 458
        },
        "id": "c0539176273dfb16",
        "outputId": "8a02d101-e529-4acc-8083-2a7f3b9e768e"
      },
      "cell_type": "code",
      "source": [
        "processed_context"
      ],
      "id": "c0539176273dfb16",
      "outputs": [
        {
          "output_type": "execute_result",
          "data": {
            "text/plain": [
              "0       I'm going through some things with my feelings...\n",
              "1       I'm going through some things with my feelings...\n",
              "2       I'm going through some things with my feelings...\n",
              "3       I'm going through some things with my feelings...\n",
              "4       I'm going through some things with my feelings...\n",
              "                              ...                        \n",
              "3504    After first meeting the client, what is the pr...\n",
              "3508    My boyfriend is in recovery from drug addictio...\n",
              "3509    The birth mother attempted suicide several tim...\n",
              "3510    I think adult life is making him depressed and...\n",
              "3511    I just took a job that requires me to travel f...\n",
              "Name: Context, Length: 2752, dtype: object"
            ],
            "text/html": [
              "<div>\n",
              "<style scoped>\n",
              "    .dataframe tbody tr th:only-of-type {\n",
              "        vertical-align: middle;\n",
              "    }\n",
              "\n",
              "    .dataframe tbody tr th {\n",
              "        vertical-align: top;\n",
              "    }\n",
              "\n",
              "    .dataframe thead th {\n",
              "        text-align: right;\n",
              "    }\n",
              "</style>\n",
              "<table border=\"1\" class=\"dataframe\">\n",
              "  <thead>\n",
              "    <tr style=\"text-align: right;\">\n",
              "      <th></th>\n",
              "      <th>Context</th>\n",
              "    </tr>\n",
              "  </thead>\n",
              "  <tbody>\n",
              "    <tr>\n",
              "      <th>0</th>\n",
              "      <td>I'm going through some things with my feelings...</td>\n",
              "    </tr>\n",
              "    <tr>\n",
              "      <th>1</th>\n",
              "      <td>I'm going through some things with my feelings...</td>\n",
              "    </tr>\n",
              "    <tr>\n",
              "      <th>2</th>\n",
              "      <td>I'm going through some things with my feelings...</td>\n",
              "    </tr>\n",
              "    <tr>\n",
              "      <th>3</th>\n",
              "      <td>I'm going through some things with my feelings...</td>\n",
              "    </tr>\n",
              "    <tr>\n",
              "      <th>4</th>\n",
              "      <td>I'm going through some things with my feelings...</td>\n",
              "    </tr>\n",
              "    <tr>\n",
              "      <th>...</th>\n",
              "      <td>...</td>\n",
              "    </tr>\n",
              "    <tr>\n",
              "      <th>3504</th>\n",
              "      <td>After first meeting the client, what is the pr...</td>\n",
              "    </tr>\n",
              "    <tr>\n",
              "      <th>3508</th>\n",
              "      <td>My boyfriend is in recovery from drug addictio...</td>\n",
              "    </tr>\n",
              "    <tr>\n",
              "      <th>3509</th>\n",
              "      <td>The birth mother attempted suicide several tim...</td>\n",
              "    </tr>\n",
              "    <tr>\n",
              "      <th>3510</th>\n",
              "      <td>I think adult life is making him depressed and...</td>\n",
              "    </tr>\n",
              "    <tr>\n",
              "      <th>3511</th>\n",
              "      <td>I just took a job that requires me to travel f...</td>\n",
              "    </tr>\n",
              "  </tbody>\n",
              "</table>\n",
              "<p>2752 rows × 1 columns</p>\n",
              "</div><br><label><b>dtype:</b> object</label>"
            ]
          },
          "metadata": {},
          "execution_count": 23
        }
      ],
      "execution_count": null
    }
  ],
  "metadata": {
    "kernelspec": {
      "display_name": "Python 3",
      "language": "python",
      "name": "python3"
    },
    "language_info": {
      "codemirror_mode": {
        "name": "ipython",
        "version": 2
      },
      "file_extension": ".py",
      "mimetype": "text/x-python",
      "name": "python",
      "nbconvert_exporter": "python",
      "pygments_lexer": "ipython2",
      "version": "2.7.6"
    },
    "colab": {
      "provenance": [],
      "include_colab_link": true
    }
  },
  "nbformat": 4,
  "nbformat_minor": 5
}