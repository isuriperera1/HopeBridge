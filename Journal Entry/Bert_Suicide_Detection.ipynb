{
  "nbformat": 4,
  "nbformat_minor": 0,
  "metadata": {
    "colab": {
      "provenance": [],
      "gpuType": "T4"
    },
    "kernelspec": {
      "name": "python3",
      "display_name": "Python 3"
    },
    "language_info": {
      "name": "python"
    },
    "accelerator": "GPU"
  },
  "cells": [
    {
      "cell_type": "code",
      "source": [
        "!pip install -q kaggle\n"
      ],
      "metadata": {
        "id": "MgUg4pnAdxPZ"
      },
      "execution_count": 1,
      "outputs": []
    },
    {
      "cell_type": "code",
      "source": [
        "from google.colab import files\n",
        "files.upload()\n"
      ],
      "metadata": {
        "colab": {
          "base_uri": "https://localhost:8080/",
          "height": 90
        },
        "id": "rGA1xRc-d2Sp",
        "outputId": "e996a34c-ece9-4d96-e372-a29373b03e40"
      },
      "execution_count": 2,
      "outputs": [
        {
          "output_type": "display_data",
          "data": {
            "text/plain": [
              "<IPython.core.display.HTML object>"
            ],
            "text/html": [
              "\n",
              "     <input type=\"file\" id=\"files-53058dc3-b27c-4709-9919-2188aa9f1727\" name=\"files[]\" multiple disabled\n",
              "        style=\"border:none\" />\n",
              "     <output id=\"result-53058dc3-b27c-4709-9919-2188aa9f1727\">\n",
              "      Upload widget is only available when the cell has been executed in the\n",
              "      current browser session. Please rerun this cell to enable.\n",
              "      </output>\n",
              "      <script>// Copyright 2017 Google LLC\n",
              "//\n",
              "// Licensed under the Apache License, Version 2.0 (the \"License\");\n",
              "// you may not use this file except in compliance with the License.\n",
              "// You may obtain a copy of the License at\n",
              "//\n",
              "//      http://www.apache.org/licenses/LICENSE-2.0\n",
              "//\n",
              "// Unless required by applicable law or agreed to in writing, software\n",
              "// distributed under the License is distributed on an \"AS IS\" BASIS,\n",
              "// WITHOUT WARRANTIES OR CONDITIONS OF ANY KIND, either express or implied.\n",
              "// See the License for the specific language governing permissions and\n",
              "// limitations under the License.\n",
              "\n",
              "/**\n",
              " * @fileoverview Helpers for google.colab Python module.\n",
              " */\n",
              "(function(scope) {\n",
              "function span(text, styleAttributes = {}) {\n",
              "  const element = document.createElement('span');\n",
              "  element.textContent = text;\n",
              "  for (const key of Object.keys(styleAttributes)) {\n",
              "    element.style[key] = styleAttributes[key];\n",
              "  }\n",
              "  return element;\n",
              "}\n",
              "\n",
              "// Max number of bytes which will be uploaded at a time.\n",
              "const MAX_PAYLOAD_SIZE = 100 * 1024;\n",
              "\n",
              "function _uploadFiles(inputId, outputId) {\n",
              "  const steps = uploadFilesStep(inputId, outputId);\n",
              "  const outputElement = document.getElementById(outputId);\n",
              "  // Cache steps on the outputElement to make it available for the next call\n",
              "  // to uploadFilesContinue from Python.\n",
              "  outputElement.steps = steps;\n",
              "\n",
              "  return _uploadFilesContinue(outputId);\n",
              "}\n",
              "\n",
              "// This is roughly an async generator (not supported in the browser yet),\n",
              "// where there are multiple asynchronous steps and the Python side is going\n",
              "// to poll for completion of each step.\n",
              "// This uses a Promise to block the python side on completion of each step,\n",
              "// then passes the result of the previous step as the input to the next step.\n",
              "function _uploadFilesContinue(outputId) {\n",
              "  const outputElement = document.getElementById(outputId);\n",
              "  const steps = outputElement.steps;\n",
              "\n",
              "  const next = steps.next(outputElement.lastPromiseValue);\n",
              "  return Promise.resolve(next.value.promise).then((value) => {\n",
              "    // Cache the last promise value to make it available to the next\n",
              "    // step of the generator.\n",
              "    outputElement.lastPromiseValue = value;\n",
              "    return next.value.response;\n",
              "  });\n",
              "}\n",
              "\n",
              "/**\n",
              " * Generator function which is called between each async step of the upload\n",
              " * process.\n",
              " * @param {string} inputId Element ID of the input file picker element.\n",
              " * @param {string} outputId Element ID of the output display.\n",
              " * @return {!Iterable<!Object>} Iterable of next steps.\n",
              " */\n",
              "function* uploadFilesStep(inputId, outputId) {\n",
              "  const inputElement = document.getElementById(inputId);\n",
              "  inputElement.disabled = false;\n",
              "\n",
              "  const outputElement = document.getElementById(outputId);\n",
              "  outputElement.innerHTML = '';\n",
              "\n",
              "  const pickedPromise = new Promise((resolve) => {\n",
              "    inputElement.addEventListener('change', (e) => {\n",
              "      resolve(e.target.files);\n",
              "    });\n",
              "  });\n",
              "\n",
              "  const cancel = document.createElement('button');\n",
              "  inputElement.parentElement.appendChild(cancel);\n",
              "  cancel.textContent = 'Cancel upload';\n",
              "  const cancelPromise = new Promise((resolve) => {\n",
              "    cancel.onclick = () => {\n",
              "      resolve(null);\n",
              "    };\n",
              "  });\n",
              "\n",
              "  // Wait for the user to pick the files.\n",
              "  const files = yield {\n",
              "    promise: Promise.race([pickedPromise, cancelPromise]),\n",
              "    response: {\n",
              "      action: 'starting',\n",
              "    }\n",
              "  };\n",
              "\n",
              "  cancel.remove();\n",
              "\n",
              "  // Disable the input element since further picks are not allowed.\n",
              "  inputElement.disabled = true;\n",
              "\n",
              "  if (!files) {\n",
              "    return {\n",
              "      response: {\n",
              "        action: 'complete',\n",
              "      }\n",
              "    };\n",
              "  }\n",
              "\n",
              "  for (const file of files) {\n",
              "    const li = document.createElement('li');\n",
              "    li.append(span(file.name, {fontWeight: 'bold'}));\n",
              "    li.append(span(\n",
              "        `(${file.type || 'n/a'}) - ${file.size} bytes, ` +\n",
              "        `last modified: ${\n",
              "            file.lastModifiedDate ? file.lastModifiedDate.toLocaleDateString() :\n",
              "                                    'n/a'} - `));\n",
              "    const percent = span('0% done');\n",
              "    li.appendChild(percent);\n",
              "\n",
              "    outputElement.appendChild(li);\n",
              "\n",
              "    const fileDataPromise = new Promise((resolve) => {\n",
              "      const reader = new FileReader();\n",
              "      reader.onload = (e) => {\n",
              "        resolve(e.target.result);\n",
              "      };\n",
              "      reader.readAsArrayBuffer(file);\n",
              "    });\n",
              "    // Wait for the data to be ready.\n",
              "    let fileData = yield {\n",
              "      promise: fileDataPromise,\n",
              "      response: {\n",
              "        action: 'continue',\n",
              "      }\n",
              "    };\n",
              "\n",
              "    // Use a chunked sending to avoid message size limits. See b/62115660.\n",
              "    let position = 0;\n",
              "    do {\n",
              "      const length = Math.min(fileData.byteLength - position, MAX_PAYLOAD_SIZE);\n",
              "      const chunk = new Uint8Array(fileData, position, length);\n",
              "      position += length;\n",
              "\n",
              "      const base64 = btoa(String.fromCharCode.apply(null, chunk));\n",
              "      yield {\n",
              "        response: {\n",
              "          action: 'append',\n",
              "          file: file.name,\n",
              "          data: base64,\n",
              "        },\n",
              "      };\n",
              "\n",
              "      let percentDone = fileData.byteLength === 0 ?\n",
              "          100 :\n",
              "          Math.round((position / fileData.byteLength) * 100);\n",
              "      percent.textContent = `${percentDone}% done`;\n",
              "\n",
              "    } while (position < fileData.byteLength);\n",
              "  }\n",
              "\n",
              "  // All done.\n",
              "  yield {\n",
              "    response: {\n",
              "      action: 'complete',\n",
              "    }\n",
              "  };\n",
              "}\n",
              "\n",
              "scope.google = scope.google || {};\n",
              "scope.google.colab = scope.google.colab || {};\n",
              "scope.google.colab._files = {\n",
              "  _uploadFiles,\n",
              "  _uploadFilesContinue,\n",
              "};\n",
              "})(self);\n",
              "</script> "
            ]
          },
          "metadata": {}
        },
        {
          "output_type": "stream",
          "name": "stdout",
          "text": [
            "Saving kaggle.json to kaggle.json\n"
          ]
        },
        {
          "output_type": "execute_result",
          "data": {
            "text/plain": [
              "{'kaggle.json': b'{\"username\":\"osaldealwis\",\"key\":\"9201e248377512930a916c3e2d60cdb7\"}'}"
            ]
          },
          "metadata": {},
          "execution_count": 2
        }
      ]
    },
    {
      "cell_type": "code",
      "source": [
        "!mkdir -p ~/.kaggle\n",
        "!mv kaggle.json ~/.kaggle/\n",
        "!chmod 600 ~/.kaggle/kaggle.json\n"
      ],
      "metadata": {
        "id": "9SHCHU_kd-a3"
      },
      "execution_count": 3,
      "outputs": []
    },
    {
      "cell_type": "code",
      "source": [
        "!kaggle datasets download -d nikhileswarkomati/suicide-watch --force\n"
      ],
      "metadata": {
        "colab": {
          "base_uri": "https://localhost:8080/"
        },
        "id": "Wvicgu-XeFPc",
        "outputId": "daf04056-5047-461e-89ef-0ee4afb16b65"
      },
      "execution_count": 4,
      "outputs": [
        {
          "output_type": "stream",
          "name": "stdout",
          "text": [
            "Dataset URL: https://www.kaggle.com/datasets/nikhileswarkomati/suicide-watch\n",
            "License(s): CC-BY-SA-4.0\n",
            "Downloading suicide-watch.zip to /content\n",
            " 99% 60.0M/60.6M [00:04<00:00, 13.4MB/s]\n",
            "100% 60.6M/60.6M [00:04<00:00, 12.8MB/s]\n"
          ]
        }
      ]
    },
    {
      "cell_type": "code",
      "source": [
        "!unzip -o suicide-watch.zip\n",
        "\n",
        "\n"
      ],
      "metadata": {
        "colab": {
          "base_uri": "https://localhost:8080/"
        },
        "id": "5fEp1OWbeKEk",
        "outputId": "98eb3a8c-ed5a-47a7-d79b-481b40658ecd"
      },
      "execution_count": 5,
      "outputs": [
        {
          "output_type": "stream",
          "name": "stdout",
          "text": [
            "Archive:  suicide-watch.zip\n",
            "  inflating: Suicide_Detection.csv   \n"
          ]
        }
      ]
    },
    {
      "cell_type": "code",
      "source": [
        "#Import required libraries\n",
        "import pandas as pd\n",
        "import tensorflow as tf\n",
        "from transformers import TFAutoModel, AutoTokenizer\n",
        "from sklearn.model_selection import train_test_split\n",
        "from sklearn.metrics import classification_report\n",
        "import re\n",
        "import spacy"
      ],
      "metadata": {
        "id": "EkjTmYFMgXcU"
      },
      "execution_count": 34,
      "outputs": []
    },
    {
      "cell_type": "code",
      "execution_count": 50,
      "metadata": {
        "colab": {
          "base_uri": "https://localhost:8080/"
        },
        "id": "oCQylvAxZgan",
        "outputId": "9f77a41d-cc9c-4961-b691-888bd2d5c83d"
      },
      "outputs": [
        {
          "output_type": "stream",
          "name": "stdout",
          "text": [
            "                                                text        label\n",
            "0  Ex Wife Threatening SuicideRecently I left my ...      suicide\n",
            "1  Am I weird I don't get affected by compliments...  non-suicide\n",
            "2  Finally 2020 is almost over... So I can never ...  non-suicide\n",
            "3          i need helpjust help me im crying so hard      suicide\n",
            "4  I’m so lostHello, my name is Adam (16) and I’v...      suicide\n",
            "<class 'pandas.core.frame.DataFrame'>\n",
            "RangeIndex: 232074 entries, 0 to 232073\n",
            "Data columns (total 2 columns):\n",
            " #   Column  Non-Null Count   Dtype \n",
            "---  ------  --------------   ----- \n",
            " 0   text    232074 non-null  object\n",
            " 1   label   232074 non-null  object\n",
            "dtypes: object(2)\n",
            "memory usage: 3.5+ MB\n",
            "None\n"
          ]
        }
      ],
      "source": [
        "import pandas as pd\n",
        "\n",
        "# Load the dataset\n",
        "df = pd.read_csv('Suicide_Detection.csv')\n",
        "\n",
        "# Drop the first column (numbers)\n",
        "df = df.iloc[:, 1:]\n",
        "\n",
        "# Rename columns for clarity\n",
        "df.columns = ['text', 'label']\n",
        "\n",
        "# Check data\n",
        "print(df.head())\n",
        "print(df.info())\n"
      ]
    },
    {
      "cell_type": "code",
      "source": [
        "# Checking for data-imbalance\n",
        "print(df['label'].value_counts())"
      ],
      "metadata": {
        "colab": {
          "base_uri": "https://localhost:8080/"
        },
        "id": "P1ID5X7hfBeM",
        "outputId": "af56e338-85be-4db2-81ad-1bdfb2abdd0d"
      },
      "execution_count": 51,
      "outputs": [
        {
          "output_type": "stream",
          "name": "stdout",
          "text": [
            "label\n",
            "suicide        116037\n",
            "non-suicide    116037\n",
            "Name: count, dtype: int64\n"
          ]
        }
      ]
    },
    {
      "cell_type": "code",
      "source": [
        "# Map the labels to binary\n",
        "df['label'] = df['label'].map({'suicide': 1, 'non-suicide': 0})\n",
        "print(df.head())"
      ],
      "metadata": {
        "colab": {
          "base_uri": "https://localhost:8080/"
        },
        "id": "I7fyhn5ogqfu",
        "outputId": "2133af5e-d77c-4f43-dc95-67d522e53995"
      },
      "execution_count": 52,
      "outputs": [
        {
          "output_type": "stream",
          "name": "stdout",
          "text": [
            "                                                text  label\n",
            "0  Ex Wife Threatening SuicideRecently I left my ...      1\n",
            "1  Am I weird I don't get affected by compliments...      0\n",
            "2  Finally 2020 is almost over... So I can never ...      0\n",
            "3          i need helpjust help me im crying so hard      1\n",
            "4  I’m so lostHello, my name is Adam (16) and I’v...      1\n"
          ]
        }
      ]
    },
    {
      "cell_type": "code",
      "source": [
        "# Convert text to lowercase\n",
        "df['text'] = df['text'].str.lower()\n",
        "\n",
        "# Remove special characters, numbers, and URLs\n",
        "df['text'] = df['text'].apply(lambda x: re.sub(r'http\\S+|www\\S+|[^a-zA-Z\\s]', '', x))\n",
        "\n",
        "# Remove duplicates\n",
        "df = df.drop_duplicates(subset=['text'])\n",
        "\n",
        "# Reset index\n",
        "df = df.reset_index(drop=True)\n",
        "\n",
        "print(df.head())"
      ],
      "metadata": {
        "colab": {
          "base_uri": "https://localhost:8080/"
        },
        "id": "TGQg5pm3SSm5",
        "outputId": "6d4e161b-c875-4ba2-c56f-ef2ca20e417a"
      },
      "execution_count": 53,
      "outputs": [
        {
          "output_type": "stream",
          "name": "stdout",
          "text": [
            "                                                text  label\n",
            "0  ex wife threatening suiciderecently i left my ...      1\n",
            "1  am i weird i dont get affected by compliments ...      0\n",
            "2  finally  is almost over so i can never hear  h...      0\n",
            "3          i need helpjust help me im crying so hard      1\n",
            "4  im so losthello my name is adam  and ive been ...      1\n"
          ]
        }
      ]
    },
    {
      "cell_type": "code",
      "source": [
        "# Split the dataset into train and test sets\n",
        "train_texts, test_texts, train_labels, test_labels = train_test_split(\n",
        "    df['text'], df['label'], test_size=0.2, random_state=42\n",
        ")\n"
      ],
      "metadata": {
        "id": "_60lvC9DitIs"
      },
      "execution_count": 54,
      "outputs": []
    },
    {
      "cell_type": "code",
      "source": [
        "tokenizer = AutoTokenizer.from_pretrained(\"bert-base-uncased\")\n"
      ],
      "metadata": {
        "id": "o7Osam6_ixWs"
      },
      "execution_count": 55,
      "outputs": []
    },
    {
      "cell_type": "code",
      "source": [
        "# Tokenize the train and test texts\n",
        "def tokenize(texts):\n",
        "    return tokenizer(texts.tolist(), padding=True, truncation=True, max_length=128, return_tensors=\"tf\")\n",
        "\n",
        "train_encodings = tokenize(train_texts)\n",
        "test_encodings = tokenize(test_texts)\n"
      ],
      "metadata": {
        "id": "tHxd0spmQnR1"
      },
      "execution_count": 56,
      "outputs": []
    },
    {
      "cell_type": "code",
      "source": [
        "# Convert to TensorFlow format\n",
        "train_dataset = tf.data.Dataset.from_tensor_slices((\n",
        "    dict(train_encodings),\n",
        "    train_labels\n",
        "))\n",
        "\n",
        "test_dataset = tf.data.Dataset.from_tensor_slices((\n",
        "    dict(test_encodings),\n",
        "    test_labels\n",
        "))\n"
      ],
      "metadata": {
        "id": "KP-gfXHNQji-"
      },
      "execution_count": 57,
      "outputs": []
    },
    {
      "cell_type": "code",
      "source": [
        "# Creating the BERT model\n",
        "\n",
        "class BERTForClassification(tf.keras.Model):\n",
        "    def __init__(self, bert_model, num_classes):\n",
        "        super().__init__()\n",
        "        self.bert = bert_model\n",
        "        self.fc = tf.keras.layers.Dense(num_classes, activation='sigmoid')  # Using sigmoid for binary classification\n",
        "\n",
        "    def call(self, inputs):\n",
        "        x = self.bert(inputs)[1]  # Get the pooled output\n",
        "        return self.fc(x)"
      ],
      "metadata": {
        "id": "iJpkUJrwQgh7"
      },
      "execution_count": 58,
      "outputs": []
    },
    {
      "cell_type": "code",
      "source": [
        "# Load pre-trained BERT model\n",
        "bert_model = TFAutoModel.from_pretrained(\"bert-base-uncased\")\n"
      ],
      "metadata": {
        "colab": {
          "base_uri": "https://localhost:8080/"
        },
        "id": "B0kgAbQ0Qd9G",
        "outputId": "ee8e7b9c-ec74-4400-8ca5-1a0b03152343"
      },
      "execution_count": 59,
      "outputs": [
        {
          "output_type": "stream",
          "name": "stderr",
          "text": [
            "Some weights of the PyTorch model were not used when initializing the TF 2.0 model TFBertModel: ['cls.seq_relationship.bias', 'cls.predictions.transform.dense.bias', 'cls.predictions.transform.LayerNorm.bias', 'cls.predictions.transform.LayerNorm.weight', 'cls.seq_relationship.weight', 'cls.predictions.bias', 'cls.predictions.transform.dense.weight']\n",
            "- This IS expected if you are initializing TFBertModel from a PyTorch model trained on another task or with another architecture (e.g. initializing a TFBertForSequenceClassification model from a BertForPreTraining model).\n",
            "- This IS NOT expected if you are initializing TFBertModel from a PyTorch model that you expect to be exactly identical (e.g. initializing a TFBertForSequenceClassification model from a BertForSequenceClassification model).\n",
            "All the weights of TFBertModel were initialized from the PyTorch model.\n",
            "If your task is similar to the task the model of the checkpoint was trained on, you can already use TFBertModel for predictions without further training.\n"
          ]
        }
      ]
    },
    {
      "cell_type": "code",
      "source": [
        "# Create the BERT model for classification\n",
        "model = BERTForClassification(bert_model, num_classes=1)"
      ],
      "metadata": {
        "id": "fnOaeQzPQaQ0"
      },
      "execution_count": 60,
      "outputs": []
    },
    {
      "cell_type": "code",
      "source": [
        "# Compile the model\n",
        "model.compile(\n",
        "    optimizer=tf.keras.optimizers.Adam(learning_rate=2e-5),\n",
        "    loss=tf.keras.losses.BinaryCrossentropy(),\n",
        "    metrics=['accuracy']\n",
        ")"
      ],
      "metadata": {
        "id": "DemwdIPXQYPu"
      },
      "execution_count": 61,
      "outputs": []
    },
    {
      "cell_type": "code",
      "source": [
        "# Train the model\n",
        "history = model.fit(\n",
        "    train_dataset.batch(36),\n",
        "    epochs=3,\n",
        "    validation_data=test_dataset.batch(36)\n",
        ")"
      ],
      "metadata": {
        "id": "AbAlvhnGTVWv",
        "colab": {
          "base_uri": "https://localhost:8080/"
        },
        "outputId": "05e9b67d-343c-4235-d142-cb2c24f7fc1b"
      },
      "execution_count": 62,
      "outputs": [
        {
          "output_type": "stream",
          "name": "stdout",
          "text": [
            "Epoch 1/3\n",
            "\u001b[1m5151/5151\u001b[0m \u001b[32m━━━━━━━━━━━━━━━━━━━━\u001b[0m\u001b[37m\u001b[0m \u001b[1m1957s\u001b[0m 375ms/step - accuracy: 0.6450 - loss: 0.6427 - val_accuracy: 0.7591 - val_loss: 0.5496\n",
            "Epoch 2/3\n",
            "\u001b[1m5151/5151\u001b[0m \u001b[32m━━━━━━━━━━━━━━━━━━━━\u001b[0m\u001b[37m\u001b[0m \u001b[1m1906s\u001b[0m 370ms/step - accuracy: 0.7727 - loss: 0.5313 - val_accuracy: 0.8077 - val_loss: 0.4847\n",
            "Epoch 3/3\n",
            "\u001b[1m5151/5151\u001b[0m \u001b[32m━━━━━━━━━━━━━━━━━━━━\u001b[0m\u001b[37m\u001b[0m \u001b[1m1901s\u001b[0m 369ms/step - accuracy: 0.8138 - loss: 0.4726 - val_accuracy: 0.8320 - val_loss: 0.4420\n"
          ]
        }
      ]
    },
    {
      "cell_type": "code",
      "source": [
        "# Evaluate the model on test data\n",
        "test_loss, test_acc = model.evaluate(test_dataset.batch(32))\n",
        "print(f\"Test accuracy: {test_acc:.4f}\")\n"
      ],
      "metadata": {
        "id": "i_6-1nz_Onhj",
        "colab": {
          "base_uri": "https://localhost:8080/"
        },
        "outputId": "b2113344-6fea-402b-9d1d-54e70c3a0068"
      },
      "execution_count": 63,
      "outputs": [
        {
          "output_type": "stream",
          "name": "stdout",
          "text": [
            "\u001b[1m1449/1449\u001b[0m \u001b[32m━━━━━━━━━━━━━━━━━━━━\u001b[0m\u001b[37m\u001b[0m \u001b[1m393s\u001b[0m 267ms/step - accuracy: 0.8341 - loss: 0.4410\n",
            "Test accuracy: 0.8320\n"
          ]
        }
      ]
    },
    {
      "cell_type": "code",
      "source": [
        "# Generate predictions on test data\n",
        "predictions = model.predict(test_dataset.batch(32))\n",
        "pred_labels = (predictions > 0.5).astype(int)  # Convert probabilities to labels (0 or 1)\n",
        "\n",
        "# Print the classification report\n",
        "print(classification_report(test_labels, pred_labels))\n"
      ],
      "metadata": {
        "id": "gpbv8zXZOpvs",
        "colab": {
          "base_uri": "https://localhost:8080/"
        },
        "outputId": "680d0aac-b4c5-4a54-9c36-0f0198359eda"
      },
      "execution_count": 64,
      "outputs": [
        {
          "output_type": "stream",
          "name": "stdout",
          "text": [
            "\u001b[1m1449/1449\u001b[0m \u001b[32m━━━━━━━━━━━━━━━━━━━━\u001b[0m\u001b[37m\u001b[0m \u001b[1m408s\u001b[0m 276ms/step\n",
            "              precision    recall  f1-score   support\n",
            "\n",
            "           0       0.84      0.82      0.83     23238\n",
            "           1       0.82      0.84      0.83     23121\n",
            "\n",
            "    accuracy                           0.83     46359\n",
            "   macro avg       0.83      0.83      0.83     46359\n",
            "weighted avg       0.83      0.83      0.83     46359\n",
            "\n"
          ]
        }
      ]
    },
    {
      "cell_type": "code",
      "source": [
        "# Save the underlying BERT model\n",
        "model.bert.save_pretrained(\"./suicide_detection_model\")\n"
      ],
      "metadata": {
        "id": "HAt-GUwDOsux"
      },
      "execution_count": 66,
      "outputs": []
    },
    {
      "cell_type": "code",
      "source": [
        "# List of custom text inputs\n",
        "sample_texts = [\n",
        "    \"I feel so hopeless and lost, life is meaningless.\",\n",
        "    \"I am really happy and excited about my upcoming vacation!\",\n",
        "    \"Nothing seems to work out for me. I don't know what to do anymore.\",\n",
        "    \"Life is beautiful, and I am grateful for everything I have.\",\n",
        "    \"I think Im doing really good these days\",\n",
        "    \"I dont want to live anymore\",\n",
        "    \"Nobody loves me\"\n",
        "]\n",
        "\n",
        "# Tokenize the inputs\n",
        "sample_tokens = tokenizer(\n",
        "    sample_texts,\n",
        "    padding=True,\n",
        "    truncation=True,\n",
        "    max_length=128,\n",
        "    return_tensors=\"tf\"\n",
        ")\n",
        "\n",
        "# Convert the BatchEncoding object to a dictionary of TensorFlow tensors\n",
        "sample_tokens = {key: tf.constant(value) for key, value in sample_tokens.items()}\n",
        "\n",
        "# Predict using the trained model\n",
        "predictions = model.predict(sample_tokens)\n",
        "\n",
        "# Convert probabilities to binary labels (0 or 1)\n",
        "predicted_labels = (predictions > 0.5).astype(int)\n",
        "\n",
        "# Map labels to meaningful text\n",
        "label_map = {0: \"Non-Suicide\", 1: \"Suicide\"}\n",
        "\n",
        "# Display the results\n",
        "for text, label in zip(sample_texts, predicted_labels):\n",
        "    print(f\"Text: {text}\")\n",
        "    print(f\"Prediction: {label_map[label[0]]}\\n\")"
      ],
      "metadata": {
        "colab": {
          "base_uri": "https://localhost:8080/"
        },
        "id": "_CawK01pvd75",
        "outputId": "129c3170-6d21-40c7-9685-c9da875edfe6"
      },
      "execution_count": 68,
      "outputs": [
        {
          "output_type": "stream",
          "name": "stdout",
          "text": [
            "\u001b[1m1/1\u001b[0m \u001b[32m━━━━━━━━━━━━━━━━━━━━\u001b[0m\u001b[37m\u001b[0m \u001b[1m9s\u001b[0m 9s/step\n",
            "Text: I feel so hopeless and lost, life is meaningless.\n",
            "Prediction: Non-Suicide\n",
            "\n",
            "Text: I am really happy and excited about my upcoming vacation!\n",
            "Prediction: Non-Suicide\n",
            "\n",
            "Text: Nothing seems to work out for me. I don't know what to do anymore.\n",
            "Prediction: Suicide\n",
            "\n",
            "Text: Life is beautiful, and I am grateful for everything I have.\n",
            "Prediction: Non-Suicide\n",
            "\n",
            "Text: I think Im doing really good these days\n",
            "Prediction: Non-Suicide\n",
            "\n",
            "Text: I dont want to live anymore\n",
            "Prediction: Non-Suicide\n",
            "\n",
            "Text: Nobody loves me\n",
            "Prediction: Non-Suicide\n",
            "\n"
          ]
        }
      ]
    }
  ]
}