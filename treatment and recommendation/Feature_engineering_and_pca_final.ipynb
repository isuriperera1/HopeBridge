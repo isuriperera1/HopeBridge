{
  "nbformat": 4,
  "nbformat_minor": 0,
  "metadata": {
    "colab": {
      "provenance": []
    },
    "kernelspec": {
      "name": "python3",
      "display_name": "Python 3"
    },
    "language_info": {
      "name": "python"
    }
  },
  "cells": [
    {
      "cell_type": "code",
      "execution_count": 14,
      "metadata": {
        "colab": {
          "base_uri": "https://localhost:8080/"
        },
        "id": "X7Ix9XX7MMGw",
        "outputId": "bea36d8a-e0e7-4094-8b2e-c725284c769a"
      },
      "outputs": [
        {
          "output_type": "stream",
          "name": "stdout",
          "text": [
            "Dataset Preview:\n",
            "     Doctor name ,specialization,Hospital ,district \n",
            "0  Dr. Kumuduni Amarasinghe Muthaliff,Addiction P...\n",
            "1  Dr. Chathurika Weerasooriya,Anxiety reduction ...\n",
            "2  Dr. Nimal Liyanage,Applied Psychologist ,Medih...\n",
            "3  Dr. Nimal Liyanage,Applied Psychologist ,Winse...\n",
            "4  Dr. Lasantha Wijesekara,Applied Psychologist ,...\n",
            "Dataset Info:\n",
            "<class 'pandas.core.frame.DataFrame'>\n",
            "RangeIndex: 296 entries, 0 to 295\n",
            "Data columns (total 1 columns):\n",
            " #   Column                                           Non-Null Count  Dtype \n",
            "---  ------                                           --------------  ----- \n",
            " 0   Doctor name ,specialization,Hospital ,district   296 non-null    object\n",
            "dtypes: object(1)\n",
            "memory usage: 2.4+ KB\n",
            "None\n",
            "Formatted data saved to formatted_Doctor_data.csv\n"
          ]
        }
      ],
      "source": [
        "import pandas as pd\n",
        "\n",
        "# Load the dataset\n",
        "file_path = '/content/DoctorDatasetcsvfile.csv'  # Replace with your file path\n",
        "raw_data = pd.read_csv(file_path, sep=';')\n",
        "\n",
        "# Preview the data\n",
        "print(\"Dataset Preview:\")\n",
        "print(raw_data.head())\n",
        "\n",
        "# Dataset Information\n",
        "print(\"Dataset Info:\")\n",
        "print(raw_data.info())\n",
        "output_file_path = 'formatted_Doctor_data.csv'\n",
        "raw_data.to_csv(output_file_path, index=False)\n",
        "print(f\"Formatted data saved to {output_file_path}\")\n",
        "\n"
      ]
    },
    {
      "cell_type": "code",
      "source": [
        "# Remove unnecessary characters\n",
        "raw_data = raw_data.replace('\"', '', regex=True)\n",
        "\n",
        "# Check for missing values\n",
        "missing_values = raw_data.isnull().sum()\n",
        "print(\"Missing Values:\\n\", missing_values)\n",
        "\n",
        "# Drop rows with missing values (if any exist)\n",
        "raw_data = raw_data.dropna()\n",
        "\n",
        "print(\"Cleaned Dataset Preview:\")\n",
        "print(raw_data.head())\n"
      ],
      "metadata": {
        "colab": {
          "base_uri": "https://localhost:8080/"
        },
        "id": "HvRv3HKRMsYV",
        "outputId": "cc5feb05-eaf4-43a5-91cf-48cc93e1f53f"
      },
      "execution_count": 15,
      "outputs": [
        {
          "output_type": "stream",
          "name": "stdout",
          "text": [
            "Missing Values:\n",
            " Doctor name ,specialization,Hospital ,district     0\n",
            "dtype: int64\n",
            "Cleaned Dataset Preview:\n",
            "     Doctor name ,specialization,Hospital ,district \n",
            "0  Dr. Kumuduni Amarasinghe Muthaliff,Addiction P...\n",
            "1  Dr. Chathurika Weerasooriya,Anxiety reduction ...\n",
            "2  Dr. Nimal Liyanage,Applied Psychologist ,Medih...\n",
            "3  Dr. Nimal Liyanage,Applied Psychologist ,Winse...\n",
            "4  Dr. Lasantha Wijesekara,Applied Psychologist ,...\n"
          ]
        }
      ]
    },
    {
      "cell_type": "code",
      "source": [
        "print(raw_data.columns)\n"
      ],
      "metadata": {
        "colab": {
          "base_uri": "https://localhost:8080/"
        },
        "id": "XNt-mPBsNo-F",
        "outputId": "fa27d984-0b82-46b7-fc3e-ea12f5ee4862"
      },
      "execution_count": 16,
      "outputs": [
        {
          "output_type": "stream",
          "name": "stdout",
          "text": [
            "Index(['Doctor name ,specialization,Hospital ,district '], dtype='object')\n"
          ]
        }
      ]
    },
    {
      "cell_type": "code",
      "source": [
        "raw_data.columns = raw_data.columns.str.strip()\n"
      ],
      "metadata": {
        "id": "RDDReMmXOFfU"
      },
      "execution_count": 12,
      "outputs": []
    },
    {
      "cell_type": "code",
      "source": [
        "print(raw_data.columns)\n"
      ],
      "metadata": {
        "colab": {
          "base_uri": "https://localhost:8080/"
        },
        "id": "lVKLsbqaOH2g",
        "outputId": "f777eaec-9b38-470c-bc44-a07146967c76"
      },
      "execution_count": 17,
      "outputs": [
        {
          "output_type": "stream",
          "name": "stdout",
          "text": [
            "Index(['Doctor name ,specialization,Hospital ,district '], dtype='object')\n"
          ]
        }
      ]
    },
    {
      "cell_type": "code",
      "source": [
        "# Strip leading/trailing spaces from column names\n",
        "raw_data.columns = raw_data.columns.str.strip()\n",
        "\n",
        "# Now, access the column with the correct name\n",
        "raw_data[['Doctor Name', 'Specialization', 'Hospital', 'District']] = raw_data[\n",
        "    'Doctor name ,specialization,Hospital ,district'\n",
        "].str.split(',', expand=True)\n",
        "\n",
        "# Drop the original combined column\n",
        "raw_data = raw_data.drop(columns=['Doctor name ,specialization,Hospital ,district'])\n",
        "\n",
        "# Preview the cleaned data\n",
        "print(\"Cleaned and Split Dataset Preview:\")\n",
        "print(raw_data.head())"
      ],
      "metadata": {
        "colab": {
          "base_uri": "https://localhost:8080/"
        },
        "id": "jMpW3gYqO6QD",
        "outputId": "e6501444-15c5-4f0e-f59f-de8d06800aa7"
      },
      "execution_count": 19,
      "outputs": [
        {
          "output_type": "stream",
          "name": "stdout",
          "text": [
            "Cleaned and Split Dataset Preview:\n",
            "                          Doctor Name             Specialization  \\\n",
            "0  Dr. Kumuduni Amarasinghe Muthaliff     Addiction Professional   \n",
            "1         Dr. Chathurika Weerasooriya  Anxiety reduction therapy   \n",
            "2                  Dr. Nimal Liyanage      Applied Psychologist    \n",
            "3                  Dr. Nimal Liyanage      Applied Psychologist    \n",
            "4             Dr. Lasantha Wijesekara      Applied Psychologist    \n",
            "\n",
            "                     Hospital       District  \n",
            "0   Nawinna Medicare Hospital     Maharagama  \n",
            "1  Blue cross medical Centre      Rajagiriya  \n",
            "2           Medihelp Hospital  Mount Lavinia  \n",
            "3           Winsetha Hospital     Colombo 10  \n",
            "4           Winsetha Hospital     Colombo 10  \n"
          ]
        }
      ]
    },
    {
      "cell_type": "code",
      "source": [
        "raw_data = raw_data.drop_duplicates()\n",
        "print(\"Dataset after removing duplicates:\")\n",
        "print(raw_data.head())\n"
      ],
      "metadata": {
        "colab": {
          "base_uri": "https://localhost:8080/"
        },
        "id": "9E_VCC0gPSBq",
        "outputId": "66de533d-6010-4bfb-d9c4-8e56c0487cb5"
      },
      "execution_count": 20,
      "outputs": [
        {
          "output_type": "stream",
          "name": "stdout",
          "text": [
            "Dataset after removing duplicates:\n",
            "                          Doctor Name             Specialization  \\\n",
            "0  Dr. Kumuduni Amarasinghe Muthaliff     Addiction Professional   \n",
            "1         Dr. Chathurika Weerasooriya  Anxiety reduction therapy   \n",
            "2                  Dr. Nimal Liyanage      Applied Psychologist    \n",
            "3                  Dr. Nimal Liyanage      Applied Psychologist    \n",
            "4             Dr. Lasantha Wijesekara      Applied Psychologist    \n",
            "\n",
            "                     Hospital       District  \n",
            "0   Nawinna Medicare Hospital     Maharagama  \n",
            "1  Blue cross medical Centre      Rajagiriya  \n",
            "2           Medihelp Hospital  Mount Lavinia  \n",
            "3           Winsetha Hospital     Colombo 10  \n",
            "4           Winsetha Hospital     Colombo 10  \n"
          ]
        }
      ]
    },
    {
      "cell_type": "code",
      "source": [
        "from sklearn.preprocessing import LabelEncoder\n",
        "\n",
        "# Initialize LabelEncoder\n",
        "label_encoder = LabelEncoder()\n",
        "\n",
        "# Encode categorical columns\n",
        "raw_data['Specialization'] = label_encoder.fit_transform(raw_data['Specialization'])\n",
        "raw_data['Hospital'] = label_encoder.fit_transform(raw_data['Hospital'])\n",
        "raw_data['District'] = label_encoder.fit_transform(raw_data['District'])\n",
        "\n",
        "# Preview the dataset after encoding\n",
        "print(\"Encoded Dataset Preview:\")\n",
        "print(raw_data.head())\n"
      ],
      "metadata": {
        "colab": {
          "base_uri": "https://localhost:8080/"
        },
        "id": "oeAio8oOPVKB",
        "outputId": "aca64969-6e64-46e7-d157-588ee8826e00"
      },
      "execution_count": 21,
      "outputs": [
        {
          "output_type": "stream",
          "name": "stdout",
          "text": [
            "Encoded Dataset Preview:\n",
            "                          Doctor Name  Specialization  Hospital  District\n",
            "0  Dr. Kumuduni Amarasinghe Muthaliff               0        71        41\n",
            "1         Dr. Chathurika Weerasooriya               1        25        54\n",
            "2                  Dr. Nimal Liyanage               2        57        46\n",
            "3                  Dr. Nimal Liyanage               2        98        17\n",
            "4             Dr. Lasantha Wijesekara               2        98        17\n"
          ]
        }
      ]
    },
    {
      "cell_type": "code",
      "source": [
        "from sklearn.preprocessing import StandardScaler\n",
        "\n",
        "# Select numerical columns for PCA (excluding 'Doctor Name')\n",
        "features = raw_data.drop(columns=['Doctor Name'])\n",
        "\n",
        "# Standardize the data\n",
        "scaler = StandardScaler()\n",
        "scaled_data = scaler.fit_transform(features)\n",
        "\n",
        "# Convert back to a DataFrame for easier interpretation\n",
        "scaled_df = pd.DataFrame(scaled_data, columns=features.columns)\n",
        "print(\"Standardized Data Preview:\")\n",
        "print(scaled_df.head())\n"
      ],
      "metadata": {
        "colab": {
          "base_uri": "https://localhost:8080/"
        },
        "id": "QJgDatzWQd80",
        "outputId": "f85daa05-1e95-475c-c99b-5a981d97c152"
      },
      "execution_count": 22,
      "outputs": [
        {
          "output_type": "stream",
          "name": "stdout",
          "text": [
            "Standardized Data Preview:\n",
            "   Specialization  Hospital  District\n",
            "0       -2.737177  0.887542  0.616319\n",
            "1       -2.601054 -0.703816  1.396193\n",
            "2       -2.464931  0.403216  0.916271\n",
            "3       -2.464931  1.821601 -0.823448\n",
            "4       -2.464931  1.821601 -0.823448\n"
          ]
        }
      ]
    },
    {
      "cell_type": "code",
      "source": [
        "import matplotlib.pyplot as plt\n",
        "from sklearn.decomposition import PCA\n",
        "\n",
        "# Assuming scaled_df is your standardized data\n",
        "pca = PCA(n_components=2)  # Reduce to 2 principal components\n",
        "principalComponents = pca.fit_transform(scaled_df)\n",
        "pca_df = pd.DataFrame(data = principalComponents,\n",
        "columns = ['Principal Component 1', 'Principal Component 2'])\n",
        "\n",
        "\n",
        "plt.scatter(pca_df['Principal Component 1'], pca_df['Principal Component 2'], alpha=0.7)\n",
        "plt.title('PCA Result')\n",
        "plt.xlabel('Principal Component 1')\n",
        "plt.ylabel('Principal Component 2')\n",
        "plt.grid(True)\n",
        "plt.show()"
      ],
      "metadata": {
        "colab": {
          "base_uri": "https://localhost:8080/",
          "height": 472
        },
        "id": "ejAIOUt0Q1XW",
        "outputId": "767db1e2-7650-4ed1-e336-ee8438a4cd76"
      },
      "execution_count": 24,
      "outputs": [
        {
          "output_type": "display_data",
          "data": {
            "text/plain": [
              "<Figure size 640x480 with 1 Axes>"
            ],
            "image/png": "[encoded data removed]"
          },
          "metadata": {}
        }
      ]
    },
    {
      "cell_type": "code",
      "source": [
        "print(pca.components_)\n"
      ],
      "metadata": {
        "colab": {
          "base_uri": "https://localhost:8080/"
        },
        "id": "uFYpkYDtRKDi",
        "outputId": "2942fe67-a89a-462f-d921-ff9714bd8bb5"
      },
      "execution_count": 25,
      "outputs": [
        {
          "output_type": "stream",
          "name": "stdout",
          "text": [
            "[[ 0.65361084 -0.64747429  0.39187997]\n",
            " [-0.25653835  0.29759911  0.91957754]]\n"
          ]
        }
      ]
    },
    {
      "cell_type": "code",
      "source": [
        "print(\"Original features:\", list(features.columns))\n",
        "print(\"Number of original features:\", len(features.columns))\n"
      ],
      "metadata": {
        "colab": {
          "base_uri": "https://localhost:8080/"
        },
        "id": "hh6T018xRaaf",
        "outputId": "099dd1a8-2096-406a-eb31-cfabb01ee174"
      },
      "execution_count": 26,
      "outputs": [
        {
          "output_type": "stream",
          "name": "stdout",
          "text": [
            "Original features: ['Specialization', 'Hospital', 'District']\n",
            "Number of original features: 3\n"
          ]
        }
      ]
    },
    {
      "cell_type": "code",
      "source": [
        "print(\"Number of principal components:\", pca.n_components_)\n"
      ],
      "metadata": {
        "colab": {
          "base_uri": "https://localhost:8080/"
        },
        "id": "QabBKdpxRcAM",
        "outputId": "d4805a9a-a478-46cb-8bcf-eb35457d63dd"
      },
      "execution_count": 27,
      "outputs": [
        {
          "output_type": "stream",
          "name": "stdout",
          "text": [
            "Number of principal components: 2\n"
          ]
        }
      ]
    },
    {
      "cell_type": "code",
      "source": [
        "import pandas as pd\n",
        "\n",
        "# Get the PCA loadings\n",
        "loadings = pd.DataFrame(pca.components_, columns=features.columns, index=[f'PC{i+1}' for i in range(pca.n_components_)])\n",
        "\n",
        "print(\"PCA Loadings:\")\n",
        "print(loadings)\n"
      ],
      "metadata": {
        "colab": {
          "base_uri": "https://localhost:8080/"
        },
        "id": "t4L9QaWIRio2",
        "outputId": "721fa66f-b49e-4b3f-81b4-33b5699dfc0e"
      },
      "execution_count": 28,
      "outputs": [
        {
          "output_type": "stream",
          "name": "stdout",
          "text": [
            "PCA Loadings:\n",
            "     Specialization  Hospital  District\n",
            "PC1        0.653611 -0.647474  0.391880\n",
            "PC2       -0.256538  0.297599  0.919578\n"
          ]
        }
      ]
    }
  ]
}